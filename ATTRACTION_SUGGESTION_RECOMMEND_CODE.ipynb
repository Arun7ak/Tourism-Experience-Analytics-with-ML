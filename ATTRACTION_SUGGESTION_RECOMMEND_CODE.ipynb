{
 "cells": [
  {
   "cell_type": "code",
   "execution_count": null,
   "metadata": {},
   "outputs": [],
   "source": [
    "#IMPORTING THE LIBRARIES FOR HANDLING DATAFRAME AND TRAINING THE MODEL\n",
    "import pandas as pd\n",
    "import numpy as np\n",
    "from sklearn.feature_extraction.text import TfidfVectorizer\n",
    "from sklearn.metrics.pairwise import cosine_similarity\n",
    "from surprise import Dataset, Reader, SVD\n",
    "from surprise.model_selection import train_test_split"
   ]
  },
  {
   "cell_type": "code",
   "execution_count": null,
   "metadata": {},
   "outputs": [],
   "source": [
    "#READING THE CSV FILE\n",
    "df = pd.read_csv(r\"D:\\TRANSACTION PROJECT\\Full Tourism Data.csv\")"
   ]
  },
  {
   "cell_type": "code",
   "execution_count": null,
   "metadata": {},
   "outputs": [],
   "source": [
    "#SELECTING THE FEATURE DATA\n",
    "selected_columns = ['UserId', 'AttractionId', 'Attraction', 'AttractionType', 'VisitModeName', 'Rating']\n",
    "df = df[selected_columns]\n"
   ]
  },
  {
   "cell_type": "code",
   "execution_count": null,
   "metadata": {},
   "outputs": [],
   "source": [
    "#PREPARE DATA FOR SUPRISE LIB \n",
    "reader = Reader(rating_scale=(1, 5))\n",
    "data = Dataset.load_from_df(df[['UserId', 'AttractionId', 'Rating']], reader)\n",
    "trainset, testset = train_test_split(data, test_size=0.2, random_state=42)"
   ]
  },
  {
   "cell_type": "code",
   "execution_count": null,
   "metadata": {},
   "outputs": [],
   "source": [
    "#TRAIN THE SVD MODEL\n",
    "svd = SVD()\n",
    "svd.fit(trainset)"
   ]
  },
  {
   "cell_type": "code",
   "execution_count": null,
   "metadata": {},
   "outputs": [],
   "source": [
    "#DOING THE COLLABRATIVE FILTERING\n",
    "def collaborative_recommend(user_id, df, model, top_n=5):\n",
    "    user_attractions = df[df['UserId'] == user_id]['AttractionId'].unique()\n",
    "    all_attractions = df['AttractionId'].unique()\n",
    "    unseen_attractions = [a for a in all_attractions if a not in user_attractions]\n",
    "    \n",
    "    predictions = [(a, model.predict(user_id, a).est) for a in unseen_attractions]\n",
    "    recommendations = sorted(predictions, key=lambda x: x[1], reverse=True)[:top_n]\n",
    "    \n",
    "    return df[df['AttractionId'].isin([rec[0] for rec in recommendations])][['Attraction', 'AttractionType']]"
   ]
  },
  {
   "cell_type": "code",
   "execution_count": null,
   "metadata": {},
   "outputs": [],
   "source": [
    "\n",
    "#DOING THE CONTENT-BASED FILTERING\n",
    "def content_based_recommend(user_attractions, df, top_n=5):\n",
    "    vectorizer = TfidfVectorizer(stop_words='english')\n",
    "    tfidf_matrix = vectorizer.fit_transform(df['AttractionType'])\n",
    "    similarity_matrix = cosine_similarity(tfidf_matrix)\n",
    "    \n",
    "    attraction_indices = df[df['Attraction'].isin(user_attractions)].index.tolist()\n",
    "    scores = similarity_matrix[attraction_indices].mean(axis=0)\n",
    "    \n",
    "    recommended_indices = scores.argsort()[-top_n:][::-1]\n",
    "    return df.iloc[recommended_indices][['Attraction', 'AttractionType']]"
   ]
  },
  {
   "cell_type": "code",
   "execution_count": null,
   "metadata": {},
   "outputs": [],
   "source": [
    "#DOING THE HYBRID RECOMMENDATION#\n",
    "def hybrid_recommend(user_id, df, model, top_n=5):\n",
    "    content_rec = content_based_recommend(df[df['UserId'] == user_id]['Attraction'].tolist(), df, top_n=top_n)\n",
    "    collab_rec = collaborative_recommend(user_id, df, model, top_n=top_n)\n",
    "    \n",
    "    hybrid_rec = pd.concat([content_rec, collab_rec]).drop_duplicates().head(top_n)\n",
    "    return hybrid_rec"
   ]
  },
  {
   "cell_type": "code",
   "execution_count": null,
   "metadata": {},
   "outputs": [],
   "source": [
    "#PREDICT THE OUTPUT FOR THE TRAINED ALL THREE MODEL\n",
    "user_id = 101 \n",
    "\n",
    "print(\"\\nCollaborative Filtering Recommendations:\")\n",
    "print(collaborative_recommend(user_id, df, svd))\n",
    "\n",
    "print(\"Content-Based Recommendations:\")\n",
    "print(content_based_recommend(['Eiffel Tower', 'Louvre Museum'], df))\n",
    "\n",
    "print(\"\\nHybrid Recommendations:\")\n",
    "print(hybrid_recommend(user_id, df, svd))"
   ]
  }
 ],
 "metadata": {
  "language_info": {
   "name": "python"
  }
 },
 "nbformat": 4,
 "nbformat_minor": 2
}
