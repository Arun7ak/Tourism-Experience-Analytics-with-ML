{
 "cells": [
  {
   "cell_type": "code",
   "execution_count": 66,
   "metadata": {},
   "outputs": [],
   "source": [
    "#IMPORTED LIBRARIES FOR HANDLING AND GENERATING THE FAKE RANDOM DATAFRAME\n",
    "import pandas as pd\n",
    "from sklearn.decomposition import TruncatedSVD\n",
    "from sklearn.metrics.pairwise import cosine_similarity\n",
    "from sklearn.neighbors import NearestNeighbors\n",
    "import numpy as np"
   ]
  },
  {
   "cell_type": "code",
   "execution_count": 67,
   "metadata": {},
   "outputs": [],
   "source": [
    "#READING THE CSV FILE\n",
    "df = pd.read_csv(r\"D:\\TRANSACTION PROJECT\\Full Tourism Data.csv\")"
   ]
  },
  {
   "cell_type": "code",
   "execution_count": null,
   "metadata": {},
   "outputs": [],
   "source": [
    "#DISPLAY THE DATAFRAME\n",
    "df.head()"
   ]
  },
  {
   "cell_type": "code",
   "execution_count": null,
   "metadata": {},
   "outputs": [],
   "source": [
    "#CHECKING NULL VALUE\n",
    "df.isna().sum()"
   ]
  },
  {
   "cell_type": "code",
   "execution_count": null,
   "metadata": {},
   "outputs": [],
   "source": [
    "#CHECKING DUPLICATE VALUES\n",
    "df.duplicated().sum()"
   ]
  },
  {
   "cell_type": "code",
   "execution_count": null,
   "metadata": {},
   "outputs": [],
   "source": [
    "# CREATE USER-ATTRACTION MATRIX (PIVOT TABLE)\n",
    "user_attraction_matrix = df.pivot_table(index=\"UserId\", columns=\"AttractionId\", values=\"Rating\", fill_value=0)"
   ]
  },
  {
   "cell_type": "code",
   "execution_count": 71,
   "metadata": {},
   "outputs": [],
   "source": [
    "# APPLY TRUNCATED SVD FOR DIMENSIONALITY REDUCTION\n",
    "n_components = min(20, user_attraction_matrix.shape[1])  # Avoids errors if attractions < 20\n",
    "svd = TruncatedSVD(n_components=n_components)\n",
    "user_attraction_matrix_reduced = svd.fit_transform(user_attraction_matrix)"
   ]
  },
  {
   "cell_type": "code",
   "execution_count": null,
   "metadata": {},
   "outputs": [],
   "source": [
    "#USE KNN FOR FINDING SIMILAR USERS (AVOIDS MEMORY ERROR)\n",
    "knn_model = NearestNeighbors(n_neighbors=5, metric='cosine', algorithm='auto')\n",
    "knn_model.fit(user_attraction_matrix_reduced)"
   ]
  },
  {
   "cell_type": "code",
   "execution_count": 74,
   "metadata": {},
   "outputs": [],
   "source": [
    "# FUNCTION TO RECOMMEND ATTRACTIONS BASED ON SIMILAR USERS\n",
    "def recommend_attractions(user_id, num_recommendations=5):\n",
    "    if user_id not in user_attraction_matrix.index:\n",
    "        return \"User ID not found! Try with a different ID.\"\n",
    "    \n",
    "    # FIND THE NEAREST NEIGHBORS (SIMILAR USERS)\n",
    "    user_idx = user_attraction_matrix.index.get_loc(user_id)\n",
    "    distances, indices = knn_model.kneighbors([user_attraction_matrix_reduced[user_idx]], n_neighbors=5)\n",
    "    \n",
    "    # GET SIMILAR USERS\n",
    "    similar_users = user_attraction_matrix.index[indices.flatten()[1:]]  # Exclude self\n",
    "\n",
    "    # FIND ATTRACTIONS RATED HIGH BY SIMILAR USERS BUT NOT VISITED BY CURRENT USER\n",
    "    user_ratings = user_attraction_matrix.loc[user_id]\n",
    "    unseen_attractions = user_ratings[user_ratings == 0].index  # Attractions not visited by user\n",
    "\n",
    "    # GET AVERAGE RATINGS FROM SIMILAR USERS\n",
    "    attraction_scores = {}\n",
    "    for sim_user in similar_users:\n",
    "        for attraction in unseen_attractions:\n",
    "            attraction_scores[attraction] = attraction_scores.get(attraction, 0) + user_attraction_matrix.loc[sim_user, attraction]\n",
    "\n",
    "    # SORT ATTRACTIONS BASED ON HIGHEST SCORES\n",
    "    recommended_attractions = sorted(attraction_scores, key=attraction_scores.get, reverse=True)[:num_recommendations]\n",
    "    \n",
    "    return recommended_attractions if recommended_attractions else \"No new recommendations found.\"\n"
   ]
  },
  {
   "cell_type": "code",
   "execution_count": null,
   "metadata": {},
   "outputs": [],
   "source": [
    "# EXAMPLE USAGE AND CHECK THE PREDICTION\n",
    "user_id = 13 \n",
    "recommended = recommend_attractions(user_id)\n",
    "\n",
    "# PRINT RESULTS\n",
    "print(f\"Recommended Attractions for User {user_id}: {recommended}\")"
   ]
  },
  {
   "cell_type": "code",
   "execution_count": null,
   "metadata": {},
   "outputs": [],
   "source": [
    "#IMPORTING LIBRARIES TO EVALUATE THE MODEL\n",
    "from sklearn.metrics import mean_squared_error, mean_absolute_error, r2_score"
   ]
  },
  {
   "cell_type": "code",
   "execution_count": null,
   "metadata": {},
   "outputs": [],
   "source": [
    "#FUNCTION TO RECOMMEND THE SIMILAR USER BY TRANSACTION\n",
    "reconstructed_matrix = svd.inverse_transform(user_attraction_matrix_reduced)\n",
    "\n",
    "original = user_attraction_matrix.to_numpy()\n",
    "reconstructed = reconstructed_matrix\n",
    "\n",
    "rmse = np.sqrt(mean_squared_error(original, reconstructed))\n",
    "mse = mean_squared_error(original, reconstructed)\n",
    "mae = mean_absolute_error(original, reconstructed)\n",
    "r2 = r2_score(original, reconstructed)\n",
    "\n",
    "print(f\"Reconstruction RMSE: {rmse:.4f}\")\n",
    "print(f\"Reconstruction MSE: {mse:.4f}\")\n",
    "print(f\"Reconstruction MAE: {mae:.4f}\")\n",
    "print(f\"Reconstruction R² Score: {r2:.4f}\")"
   ]
  },
  {
   "cell_type": "code",
   "execution_count": null,
   "metadata": {},
   "outputs": [],
   "source": [
    "#IMPORT JOBLIB SAVE THE MODEL\n",
    "import joblib"
   ]
  },
  {
   "cell_type": "code",
   "execution_count": null,
   "metadata": {},
   "outputs": [],
   "source": [
    "#SAVE THE TRAINED SVD MODEL\n",
    "joblib.dump(svd, r\"D:\\TRANSACTION PROJECT\\svd1 for recommend.pkl\")"
   ]
  },
  {
   "cell_type": "code",
   "execution_count": null,
   "metadata": {},
   "outputs": [],
   "source": [
    "#SAVE THE SVD OUTPUT\n",
    "joblib.dump(user_attraction_matrix_reduced, r\"D:\\TRANSACTION PROJECT\\user_attraction_matrix_reduced for recommend.pkl\")"
   ]
  },
  {
   "cell_type": "code",
   "execution_count": null,
   "metadata": {},
   "outputs": [],
   "source": [
    "#SAVE THE TRAINED KNN MODEL\n",
    "joblib.dump(knn_model, r\"D:\\TRANSACTION PROJECT\\knn_model1 for recommend.pkl\")\n"
   ]
  },
  {
   "cell_type": "code",
   "execution_count": null,
   "metadata": {},
   "outputs": [],
   "source": [
    "#SAVE THE USER ATTRACTION MATRIX\n",
    "joblib.dump(user_attraction_matrix, r\"D:\\TRANSACTION PROJECT\\user_attraction_matrix1 for recommend.pkl\")\n"
   ]
  }
 ],
 "metadata": {
  "kernelspec": {
   "display_name": "Python 3",
   "language": "python",
   "name": "python3"
  },
  "language_info": {
   "codemirror_mode": {
    "name": "ipython",
    "version": 3
   },
   "file_extension": ".py",
   "mimetype": "text/x-python",
   "name": "python",
   "nbconvert_exporter": "python",
   "pygments_lexer": "ipython3",
   "version": "3.12.1"
  }
 },
 "nbformat": 4,
 "nbformat_minor": 2
}
