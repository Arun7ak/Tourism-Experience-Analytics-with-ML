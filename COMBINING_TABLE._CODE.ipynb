{
 "cells": [
  {
   "cell_type": "code",
   "execution_count": null,
   "metadata": {},
   "outputs": [],
   "source": [
    "#IMPORTING LIBRARIES FOR CONNECTING PYTHON\n",
    "import mysql.connector"
   ]
  },
  {
   "cell_type": "code",
   "execution_count": null,
   "metadata": {},
   "outputs": [
    {
     "name": "stdout",
     "output_type": "stream",
     "text": [
      "<mysql.connector.connection.MySQLConnection object at 0x000002989FDD4EF0>\n"
     ]
    }
   ],
   "source": [
    "#CONNECTING MYSQL XAMPP WITH PYTHON\n",
    "connection= mysql.connector.connect(\n",
    " host= \"localhost\",\n",
    " user= \"root\",\n",
    " password=\"\",\n",
    " database=\"transaction_project\"\n",
    " )\n",
    "print(connection)\n",
    "mycursor = connection.cursor()"
   ]
  },
  {
   "cell_type": "code",
   "execution_count": null,
   "metadata": {},
   "outputs": [],
   "source": [
    "#VIEWING ALL TABLE NAME\n",
    "tables = mycursor.fetchall()\n",
    "\n",
    "print(\"Tables in 'transaction_project' database:\")\n",
    "for table in tables:\n",
    "    print(table[0])"
   ]
  },
  {
   "cell_type": "code",
   "execution_count": null,
   "metadata": {},
   "outputs": [],
   "source": [
    "#IMPORT PANDAS FOR CONVERTING CSV FILE \n",
    "import pandas as pd"
   ]
  },
  {
   "cell_type": "code",
   "execution_count": null,
   "metadata": {},
   "outputs": [
    {
     "name": "stdout",
     "output_type": "stream",
     "text": [
      "Step 1: Created table `joined_1` (transaction + user)\n"
     ]
    }
   ],
   "source": [
    "#JOINING TRANSACTION AND USER TABLE\n",
    "query_1 = \"\"\"\n",
    "CREATE TABLE IF NOT EXISTS joined_1 AS\n",
    "SELECT t.TransactionId, t.UserId, t.VisitYear, t.VisitMonth, t.VisitMode, t.AttractionId, t.Rating,\n",
    "       u.ContenentId, u.RegionId, u.CountryId, u.CityId\n",
    "FROM transaction t\n",
    "INNER JOIN user u ON t.UserId = u.UserId;\n",
    "\"\"\"\n",
    "\n",
    "mycursor.execute(query_1)\n",
    "connection.commit()\n",
    "print(\"Step 1: Created table `joined_1` (transaction + user)\")\n"
   ]
  },
  {
   "cell_type": "code",
   "execution_count": null,
   "metadata": {},
   "outputs": [
    {
     "name": "stdout",
     "output_type": "stream",
     "text": [
      "Step 2: Created table `joined_2` (joined_1 + continent)\n"
     ]
    }
   ],
   "source": [
    "#JOINING JOINED_1 AND CONTENENT TABLE\n",
    "query_2 = \"\"\"\n",
    "CREATE TABLE IF NOT EXISTS joined_2 AS\n",
    "SELECT j1.*, c.Contenent\n",
    "FROM joined_1 j1\n",
    "INNER JOIN continent c ON j1.ContenentId = c.ContenentId;\n",
    "\"\"\"\n",
    "\n",
    "mycursor.execute(query_2)\n",
    "connection.commit()\n",
    "print(\"Step 2: Created table `joined_2` (joined_1 + continent)\")\n"
   ]
  },
  {
   "cell_type": "code",
   "execution_count": null,
   "metadata": {},
   "outputs": [
    {
     "name": "stdout",
     "output_type": "stream",
     "text": [
      "Step 3: Created table `joined_3` (joined_2 + region)\n"
     ]
    }
   ],
   "source": [
    "#JOINING JOINED_2 AND REGION TABLE\n",
    "query_3 = \"\"\"\n",
    "CREATE TABLE IF NOT EXISTS joined_3 AS\n",
    "SELECT j2.*, r.Region\n",
    "FROM joined_2 j2\n",
    "INNER JOIN region r ON j2.RegionId = r.RegionId;\n",
    "\"\"\"\n",
    "\n",
    "mycursor.execute(query_3)\n",
    "connection.commit()\n",
    "print(\"Step 3: Created table `joined_3` (joined_2 + region)\")\n"
   ]
  },
  {
   "cell_type": "code",
   "execution_count": null,
   "metadata": {},
   "outputs": [
    {
     "name": "stdout",
     "output_type": "stream",
     "text": [
      "Step 4: Created table `joined_4` (joined_3 + country)\n"
     ]
    }
   ],
   "source": [
    "##JOINING JOINED_3 AND COUNTRY TABLE\n",
    "query_4 = \"\"\"\n",
    "CREATE TABLE IF NOT EXISTS joined_4 AS\n",
    "SELECT j3.*, co.Country\n",
    "FROM joined_3 j3\n",
    "INNER JOIN country co ON j3.CountryId = co.CountryId;\n",
    "\"\"\"\n",
    "\n",
    "mycursor.execute(query_4)\n",
    "connection.commit()\n",
    "print(\"Step 4: Created table `joined_4` (joined_3 + country)\")\n"
   ]
  },
  {
   "cell_type": "code",
   "execution_count": null,
   "metadata": {},
   "outputs": [
    {
     "name": "stdout",
     "output_type": "stream",
     "text": [
      "Step 5: Created table `joined_5` (joined_4 + city)\n"
     ]
    }
   ],
   "source": [
    "#JOINING JOINED_4 CITY TABLE\n",
    "query_5 = \"\"\"\n",
    "CREATE TABLE IF NOT EXISTS joined_5 AS\n",
    "SELECT j4.*, ci.CityName\n",
    "FROM joined_4 j4\n",
    "INNER JOIN city ci ON j4.CityId = ci.CityId;\n",
    "\"\"\"\n",
    "\n",
    "mycursor.execute(query_5)\n",
    "connection.commit()\n",
    "print(\"Step 5: Created table `joined_5` (joined_4 + city)\")\n"
   ]
  },
  {
   "cell_type": "code",
   "execution_count": null,
   "metadata": {},
   "outputs": [
    {
     "name": "stdout",
     "output_type": "stream",
     "text": [
      "Step 6: Created table `joined_6` (joined_5 + item/attraction)\n"
     ]
    }
   ],
   "source": [
    "#JOINING JOINED_5 AND ATTRACTION TABLE\n",
    "query_6 = \"\"\"\n",
    "CREATE TABLE IF NOT EXISTS joined_6 AS\n",
    "SELECT j5.*, it.Attraction, it.AttractionAddress, it.AttractionTypeId\n",
    "FROM joined_5 j5\n",
    "INNER JOIN item it ON j5.AttractionId = it.AttractionId;\n",
    "\"\"\"\n",
    "\n",
    "mycursor.execute(query_6)\n",
    "connection.commit()\n",
    "print(\"Step 6: Created table `joined_6` (joined_5 + item/attraction)\")\n"
   ]
  },
  {
   "cell_type": "code",
   "execution_count": null,
   "metadata": {},
   "outputs": [
    {
     "name": "stdout",
     "output_type": "stream",
     "text": [
      "Step 7: Created table `joined_7` (joined_6 + type)\n"
     ]
    }
   ],
   "source": [
    "#JOINING JOINED_6 TABLE AND TYPE\n",
    "query_7 = \"\"\"\n",
    "CREATE TABLE IF NOT EXISTS joined_7 AS\n",
    "SELECT j6.*, t.AttractionType\n",
    "FROM joined_6 j6\n",
    "INNER JOIN type t ON j6.AttractionTypeId = t.AttractionTypeId;\n",
    "\"\"\"\n",
    "\n",
    "mycursor.execute(query_7)\n",
    "connection.commit()\n",
    "print(\"Step 7: Created table `joined_7` (joined_6 + type)\")\n"
   ]
  },
  {
   "cell_type": "code",
   "execution_count": null,
   "metadata": {},
   "outputs": [
    {
     "name": "stdout",
     "output_type": "stream",
     "text": [
      "Step 8: Created table `final_table` (joined_7 + mode) 🎉 FINAL STEP!\n"
     ]
    }
   ],
   "source": [
    "##JOINING JOINED_7 AND MODE TABLE\n",
    "query_8 = \"\"\"\n",
    "CREATE TABLE IF NOT EXISTS final_table AS\n",
    "SELECT j7.*, m.VisitMode AS VisitModeName\n",
    "FROM joined_7 j7\n",
    "INNER JOIN mode m ON j7.VisitMode = m.VisitModeId;\n",
    "\"\"\"\n",
    "\n",
    "mycursor.execute(query_8)\n",
    "connection.commit()\n",
    "print(\"Step 8: Created table `final_table` (joined_7 + mode) 🎉 FINAL STEP!\")\n"
   ]
  },
  {
   "cell_type": "code",
   "execution_count": null,
   "metadata": {},
   "outputs": [],
   "source": [
    "#JOINING ALL TABLE AND CONVERTING IT INTO CSV\n",
    "query_final = \"SELECT * FROM final_table;\"\n",
    "mycursor.execute(query_final)\n",
    "result_final = mycursor.fetchall()\n",
    "columns_final = [desc[0] for desc in mycursor.description]\n",
    "\n",
    "df_final = pd.DataFrame(result_final, columns=columns_final)\n",
    "\n"
   ]
  },
  {
   "cell_type": "code",
   "execution_count": null,
   "metadata": {},
   "outputs": [],
   "source": [
    "#DISPLAY THE DATAFRAME\n",
    "df_final.head() "
   ]
  },
  {
   "cell_type": "code",
   "execution_count": null,
   "metadata": {},
   "outputs": [],
   "source": [
    "#SAVING THE CSV FILE\n",
    "df_final.to_csv(\"Full Tourism Data.csv\",index = False)"
   ]
  }
 ],
 "metadata": {
  "kernelspec": {
   "display_name": "Python 3",
   "language": "python",
   "name": "python3"
  },
  "language_info": {
   "name": "python",
   "version": "3.12.1"
  }
 },
 "nbformat": 4,
 "nbformat_minor": 2
}
