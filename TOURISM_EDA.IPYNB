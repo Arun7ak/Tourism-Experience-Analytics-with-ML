{
 "cells": [
  {
   "cell_type": "code",
   "execution_count": 2,
   "metadata": {},
   "outputs": [],
   "source": [
    "#IMPORTING LIBRARIES FOR HANDLING DATAFRAME AND FOR DATA VISUALIZATION\n",
    "import pandas as pd \n",
    "import numpy as np"
   ]
  },
  {
   "cell_type": "code",
   "execution_count": 3,
   "metadata": {},
   "outputs": [],
   "source": [
    "#READING THE CSV FILE\n",
    "Tourism_df = pd.read_csv(r\"D:\\TRANSACTION PROJECT\\Full Tourism Data.csv\")"
   ]
  },
  {
   "cell_type": "code",
   "execution_count": null,
   "metadata": {},
   "outputs": [],
   "source": [
    "#DISPLAY THE TABLE\n",
    "Tourism_df.head()"
   ]
  },
  {
   "cell_type": "code",
   "execution_count": null,
   "metadata": {},
   "outputs": [],
   "source": [
    "#CHECKING NULL VALUE\n",
    "Tourism_df.isna().sum()"
   ]
  },
  {
   "cell_type": "code",
   "execution_count": null,
   "metadata": {},
   "outputs": [],
   "source": [
    "#CHECKING DUPLICATE VALUE\n",
    "Tourism_df.duplicated().sum()"
   ]
  },
  {
   "cell_type": "code",
   "execution_count": null,
   "metadata": {},
   "outputs": [],
   "source": [
    "Tourism_df.info()"
   ]
  },
  {
   "cell_type": "code",
   "execution_count": null,
   "metadata": {},
   "outputs": [],
   "source": [
    "Tourism_df.describe()"
   ]
  },
  {
   "cell_type": "code",
   "execution_count": null,
   "metadata": {},
   "outputs": [],
   "source": [
    "Tourism_df.columns"
   ]
  },
  {
   "cell_type": "code",
   "execution_count": null,
   "metadata": {},
   "outputs": [],
   "source": [
    "Tourism_df.dtypes"
   ]
  },
  {
   "cell_type": "code",
   "execution_count": null,
   "metadata": {},
   "outputs": [],
   "source": [
    "#CHECK THE COUNT OF DATAFRAME\n",
    "Tourism_df.count()"
   ]
  },
  {
   "cell_type": "code",
   "execution_count": null,
   "metadata": {},
   "outputs": [],
   "source": [
    "#CHECK THE UNIQUE VALUE COUNT IN DATAFRAME\n",
    "Tourism_df.nunique()"
   ]
  },
  {
   "cell_type": "code",
   "execution_count": null,
   "metadata": {},
   "outputs": [],
   "source": [
    "Tourism_df[\"Rating\"].value_counts()"
   ]
  },
  {
   "cell_type": "code",
   "execution_count": null,
   "metadata": {},
   "outputs": [],
   "source": [
    "#IMPORT LIBRARIES FOR EDA \n",
    "import matplotlib.pyplot as plt\n",
    "import seaborn as sns"
   ]
  },
  {
   "cell_type": "code",
   "execution_count": null,
   "metadata": {},
   "outputs": [],
   "source": [
    "#TOP 10 MOST VISITED ATTRACTIONS\n",
    "top_attractions = Tourism_df['Attraction'].value_counts().head(10)\n",
    "\n",
    "plt.figure(figsize=(10,5))\n",
    "sns.barplot(x=top_attractions.values, y=top_attractions.index, palette='viridis')\n",
    "plt.xlabel(\"Number of Visits\")\n",
    "plt.ylabel(\"Attractions\")\n",
    "plt.title(\"Top 10 Most Visited Attractions\")\n",
    "plt.show()\n"
   ]
  },
  {
   "cell_type": "code",
   "execution_count": null,
   "metadata": {},
   "outputs": [],
   "source": [
    "#TOURIST VISITS BY COUNTRY\n",
    "top_countries = Tourism_df['Country'].value_counts().head(10)\n",
    "\n",
    "plt.figure(figsize=(10,5))\n",
    "sns.barplot(x=top_countries.values, y=top_countries.index, palette='coolwarm')\n",
    "plt.xlabel(\"Number of Visits\")\n",
    "plt.ylabel(\"Country\")\n",
    "plt.title(\"Top 10 Most Visited Countries\")\n",
    "plt.show()\n"
   ]
  },
  {
   "cell_type": "code",
   "execution_count": null,
   "metadata": {},
   "outputs": [],
   "source": [
    "#MOST COMMON VISIT MODES\n",
    "visit_mode_counts = Tourism_df['VisitModeName'].value_counts()\n",
    "\n",
    "plt.figure(figsize=(8,5))\n",
    "sns.barplot(x=visit_mode_counts.values, y=visit_mode_counts.index, palette='magma')\n",
    "plt.xlabel(\"Number of Visits\")\n",
    "plt.ylabel(\"Visit Mode\")\n",
    "plt.title(\"Preferred Visit Modes\")\n",
    "plt.show()\n"
   ]
  },
  {
   "cell_type": "code",
   "execution_count": null,
   "metadata": {},
   "outputs": [],
   "source": [
    "#MONTHLY VISITS DISTRIBUTION\n",
    "monthly_visits = Tourism_df['VisitMonth'].value_counts().sort_index()\n",
    "\n",
    "plt.figure(figsize=(8,5))\n",
    "sns.barplot(x=monthly_visits.index, y=monthly_visits.values, palette='Blues_r')\n",
    "plt.xlabel(\"Month\")\n",
    "plt.ylabel(\"Number of Visits\")\n",
    "plt.title(\"Tourist Visits Per Month\")\n",
    "plt.show()\n"
   ]
  },
  {
   "cell_type": "code",
   "execution_count": null,
   "metadata": {},
   "outputs": [],
   "source": [
    "#AVERAGE RATING FOR TOP 10 ATTRACTIONS\n",
    "top_rated = Tourism_df.groupby('Attraction')['Rating'].mean().sort_values(ascending=False).head(10)\n",
    "\n",
    "plt.figure(figsize=(10,5))\n",
    "sns.barplot(x=top_rated.values, y=top_rated.index, palette='cividis')\n",
    "plt.xlabel(\"Average Rating\")\n",
    "plt.ylabel(\"Attractions\")\n",
    "plt.title(\"Top 10 Attractions by Average Rating\")\n",
    "plt.xlim(0, 5)\n",
    "plt.show()\n"
   ]
  },
  {
   "cell_type": "code",
   "execution_count": null,
   "metadata": {},
   "outputs": [],
   "source": [
    "#AVERAGE RATING BY VISIT MODE\n",
    "visit_mode_ratings = Tourism_df.groupby('VisitModeName')['Rating'].mean().sort_values(ascending=False)\n",
    "\n",
    "plt.figure(figsize=(8,5))\n",
    "sns.barplot(x=visit_mode_ratings.values, y=visit_mode_ratings.index, palette='coolwarm')\n",
    "plt.xlabel(\"Average Rating\")\n",
    "plt.ylabel(\"Visit Mode\")\n",
    "plt.title(\"Average Rating by Visit Mode\")\n",
    "plt.xlim(0, 5)\n",
    "plt.show()\n"
   ]
  },
  {
   "cell_type": "code",
   "execution_count": null,
   "metadata": {},
   "outputs": [],
   "source": [
    "# TOP 10 COUNTRIES WITH HIGH RATING\n",
    "top_countries_high_ratings = (\n",
    "    Tourism_df[Tourism_df['Rating'] == 5]  \n",
    "    .groupby('Country')['Rating']\n",
    "    .count()\n",
    "    .sort_values(ascending=False)\n",
    "    .head(10)\n",
    ")\n",
    "\n",
    "plt.figure(figsize=(10,5))\n",
    "sns.barplot(x=top_countries_high_ratings.values, y=top_countries_high_ratings.index, palette='Set1')\n",
    "plt.xlabel(\"Number of 5-Star Ratings\")\n",
    "plt.ylabel(\"Country\")\n",
    "plt.title(\"Top 10 Countries with Highest 5-Star Ratings\")\n",
    "plt.show()\n",
    "\n"
   ]
  },
  {
   "cell_type": "code",
   "execution_count": null,
   "metadata": {},
   "outputs": [],
   "source": [
    "#VISIT MODE PREFERENCE BY CONTINENT\n",
    "plt.figure(figsize=(12,6))\n",
    "sns.barplot(x='Contenent', y='TransactionId', hue='VisitModeName', data=Tourism_df, estimator=len, palette='Paired')\n",
    "plt.xlabel(\"Continent\")\n",
    "plt.ylabel(\"Number of Visits\")\n",
    "plt.title(\"Visit Mode Preference by Continent\")\n",
    "plt.legend(title=\"Visit Mode\")\n",
    "plt.show()\n"
   ]
  },
  {
   "cell_type": "code",
   "execution_count": null,
   "metadata": {},
   "outputs": [],
   "source": [
    "#AVERAGE RATING BY ATTRACTION TYPE AND VISIT MODE\n",
    "plt.figure(figsize=(12,6))\n",
    "sns.barplot(x='AttractionType', y='Rating', hue='VisitModeName', data=Tourism_df, palette='Accent')\n",
    "plt.xlabel(\"Attraction Type\")\n",
    "plt.ylabel(\"Average Rating\")\n",
    "plt.xticks(rotation=45, ha=\"right\")\n",
    "plt.title(\"Average Rating by Attraction Type and Visit Mode\")\n",
    "plt.legend(title=\"Visit Mode\")\n",
    "plt.show()\n"
   ]
  },
  {
   "cell_type": "code",
   "execution_count": null,
   "metadata": {},
   "outputs": [],
   "source": [
    "#DISTRIBUTION OF RATING\n",
    "plt.figure(figsize=(8,5))\n",
    "sns.histplot(Tourism_df[\"Rating\"], bins=5, kde=True, color=\"skyblue\")\n",
    "plt.title(\"Distribution of Ratings\")\n",
    "plt.xlabel(\"Rating\")\n",
    "plt.ylabel(\"Count\")\n",
    "plt.show()"
   ]
  },
  {
   "cell_type": "code",
   "execution_count": null,
   "metadata": {},
   "outputs": [],
   "source": [
    "#DISPLAY THE VISIT COUNT PER MONTH\n",
    "plt.figure(figsize=(8,5))\n",
    "sns.countplot(data=Tourism_df, x=\"Contenent\",palette=\"coolwarm\")\n",
    "plt.title(\"VISIT COUNT PER CONTENENT\")\n",
    "plt.show()"
   ]
  }
 ],
 "metadata": {
  "kernelspec": {
   "display_name": "Python 3",
   "language": "python",
   "name": "python3"
  },
  "language_info": {
   "codemirror_mode": {
    "name": "ipython",
    "version": 3
   },
   "file_extension": ".py",
   "mimetype": "text/x-python",
   "name": "python",
   "nbconvert_exporter": "python",
   "pygments_lexer": "ipython3",
   "version": "3.12.1"
  }
 },
 "nbformat": 4,
 "nbformat_minor": 2
}
