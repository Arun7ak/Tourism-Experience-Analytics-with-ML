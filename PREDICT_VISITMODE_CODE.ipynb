{
 "cells": [
  {
   "cell_type": "code",
   "execution_count": 1,
   "metadata": {},
   "outputs": [],
   "source": [
    "#IMPORTING LIBRARIES FOR HANDLING DATAFRAME AND FOR DATA VISUALIZATION\n",
    "import pandas as pd \n",
    "import numpy as np\n",
    "import matplotlib.pyplot as plt\n",
    "import seaborn as sns"
   ]
  },
  {
   "cell_type": "code",
   "execution_count": 2,
   "metadata": {},
   "outputs": [],
   "source": [
    "#READING THE CSV FILE\n",
    "Tourism_df = pd.read_csv(r\"D:\\TRANSACTION PROJECT\\Full Tourism Data.csv\")"
   ]
  },
  {
   "cell_type": "code",
   "execution_count": 3,
   "metadata": {},
   "outputs": [
    {
     "data": {
      "text/html": [
       "<div>\n",
       "<style scoped>\n",
       "    .dataframe tbody tr th:only-of-type {\n",
       "        vertical-align: middle;\n",
       "    }\n",
       "\n",
       "    .dataframe tbody tr th {\n",
       "        vertical-align: top;\n",
       "    }\n",
       "\n",
       "    .dataframe thead th {\n",
       "        text-align: right;\n",
       "    }\n",
       "</style>\n",
       "<table border=\"1\" class=\"dataframe\">\n",
       "  <thead>\n",
       "    <tr style=\"text-align: right;\">\n",
       "      <th></th>\n",
       "      <th>TransactionId</th>\n",
       "      <th>UserId</th>\n",
       "      <th>VisitYear</th>\n",
       "      <th>VisitMonth</th>\n",
       "      <th>VisitMode</th>\n",
       "      <th>AttractionId</th>\n",
       "      <th>Rating</th>\n",
       "      <th>ContenentId</th>\n",
       "      <th>RegionId</th>\n",
       "      <th>CountryId</th>\n",
       "      <th>CityId</th>\n",
       "      <th>Contenent</th>\n",
       "      <th>Region</th>\n",
       "      <th>Country</th>\n",
       "      <th>CityName</th>\n",
       "      <th>Attraction</th>\n",
       "      <th>AttractionAddress</th>\n",
       "      <th>AttractionTypeId</th>\n",
       "      <th>AttractionType</th>\n",
       "      <th>VisitModeName</th>\n",
       "    </tr>\n",
       "  </thead>\n",
       "  <tbody>\n",
       "    <tr>\n",
       "      <th>0</th>\n",
       "      <td>3</td>\n",
       "      <td>70456</td>\n",
       "      <td>2022</td>\n",
       "      <td>10</td>\n",
       "      <td>2</td>\n",
       "      <td>640</td>\n",
       "      <td>5</td>\n",
       "      <td>5</td>\n",
       "      <td>21</td>\n",
       "      <td>163</td>\n",
       "      <td>4341</td>\n",
       "      <td>Europe</td>\n",
       "      <td>Western Europe</td>\n",
       "      <td>United Kingdom</td>\n",
       "      <td>Guildford</td>\n",
       "      <td>Sacred Monkey Forest Sanctuary</td>\n",
       "      <td>Jl. Monkey Forest, Ubud 80571 Indonesia</td>\n",
       "      <td>63</td>\n",
       "      <td>Nature &amp; Wildlife Areas</td>\n",
       "      <td>Couples</td>\n",
       "    </tr>\n",
       "    <tr>\n",
       "      <th>1</th>\n",
       "      <td>8</td>\n",
       "      <td>7567</td>\n",
       "      <td>2022</td>\n",
       "      <td>10</td>\n",
       "      <td>4</td>\n",
       "      <td>640</td>\n",
       "      <td>5</td>\n",
       "      <td>2</td>\n",
       "      <td>8</td>\n",
       "      <td>48</td>\n",
       "      <td>464</td>\n",
       "      <td>America</td>\n",
       "      <td>Northern America</td>\n",
       "      <td>Canada</td>\n",
       "      <td>Ontario</td>\n",
       "      <td>Sacred Monkey Forest Sanctuary</td>\n",
       "      <td>Jl. Monkey Forest, Ubud 80571 Indonesia</td>\n",
       "      <td>63</td>\n",
       "      <td>Nature &amp; Wildlife Areas</td>\n",
       "      <td>Friends</td>\n",
       "    </tr>\n",
       "    <tr>\n",
       "      <th>2</th>\n",
       "      <td>9</td>\n",
       "      <td>79069</td>\n",
       "      <td>2022</td>\n",
       "      <td>10</td>\n",
       "      <td>3</td>\n",
       "      <td>640</td>\n",
       "      <td>5</td>\n",
       "      <td>2</td>\n",
       "      <td>9</td>\n",
       "      <td>54</td>\n",
       "      <td>774</td>\n",
       "      <td>America</td>\n",
       "      <td>South America</td>\n",
       "      <td>Brazil</td>\n",
       "      <td>Brazil</td>\n",
       "      <td>Sacred Monkey Forest Sanctuary</td>\n",
       "      <td>Jl. Monkey Forest, Ubud 80571 Indonesia</td>\n",
       "      <td>63</td>\n",
       "      <td>Nature &amp; Wildlife Areas</td>\n",
       "      <td>Family</td>\n",
       "    </tr>\n",
       "    <tr>\n",
       "      <th>3</th>\n",
       "      <td>10</td>\n",
       "      <td>31019</td>\n",
       "      <td>2022</td>\n",
       "      <td>10</td>\n",
       "      <td>3</td>\n",
       "      <td>640</td>\n",
       "      <td>3</td>\n",
       "      <td>5</td>\n",
       "      <td>17</td>\n",
       "      <td>135</td>\n",
       "      <td>583</td>\n",
       "      <td>Europe</td>\n",
       "      <td>Central Europe</td>\n",
       "      <td>Switzerland</td>\n",
       "      <td>Zurich</td>\n",
       "      <td>Sacred Monkey Forest Sanctuary</td>\n",
       "      <td>Jl. Monkey Forest, Ubud 80571 Indonesia</td>\n",
       "      <td>63</td>\n",
       "      <td>Nature &amp; Wildlife Areas</td>\n",
       "      <td>Family</td>\n",
       "    </tr>\n",
       "    <tr>\n",
       "      <th>4</th>\n",
       "      <td>15</td>\n",
       "      <td>43611</td>\n",
       "      <td>2022</td>\n",
       "      <td>10</td>\n",
       "      <td>2</td>\n",
       "      <td>640</td>\n",
       "      <td>3</td>\n",
       "      <td>5</td>\n",
       "      <td>21</td>\n",
       "      <td>163</td>\n",
       "      <td>1396</td>\n",
       "      <td>Europe</td>\n",
       "      <td>Western Europe</td>\n",
       "      <td>United Kingdom</td>\n",
       "      <td>Manchester</td>\n",
       "      <td>Sacred Monkey Forest Sanctuary</td>\n",
       "      <td>Jl. Monkey Forest, Ubud 80571 Indonesia</td>\n",
       "      <td>63</td>\n",
       "      <td>Nature &amp; Wildlife Areas</td>\n",
       "      <td>Couples</td>\n",
       "    </tr>\n",
       "  </tbody>\n",
       "</table>\n",
       "</div>"
      ],
      "text/plain": [
       "   TransactionId  UserId  VisitYear  VisitMonth  VisitMode  AttractionId  \\\n",
       "0              3   70456       2022          10          2           640   \n",
       "1              8    7567       2022          10          4           640   \n",
       "2              9   79069       2022          10          3           640   \n",
       "3             10   31019       2022          10          3           640   \n",
       "4             15   43611       2022          10          2           640   \n",
       "\n",
       "   Rating  ContenentId  RegionId  CountryId  CityId Contenent  \\\n",
       "0       5            5        21        163    4341    Europe   \n",
       "1       5            2         8         48     464   America   \n",
       "2       5            2         9         54     774   America   \n",
       "3       3            5        17        135     583    Europe   \n",
       "4       3            5        21        163    1396    Europe   \n",
       "\n",
       "             Region         Country    CityName  \\\n",
       "0    Western Europe  United Kingdom   Guildford   \n",
       "1  Northern America          Canada     Ontario   \n",
       "2     South America          Brazil      Brazil   \n",
       "3    Central Europe     Switzerland      Zurich   \n",
       "4    Western Europe  United Kingdom  Manchester   \n",
       "\n",
       "                       Attraction                        AttractionAddress  \\\n",
       "0  Sacred Monkey Forest Sanctuary  Jl. Monkey Forest, Ubud 80571 Indonesia   \n",
       "1  Sacred Monkey Forest Sanctuary  Jl. Monkey Forest, Ubud 80571 Indonesia   \n",
       "2  Sacred Monkey Forest Sanctuary  Jl. Monkey Forest, Ubud 80571 Indonesia   \n",
       "3  Sacred Monkey Forest Sanctuary  Jl. Monkey Forest, Ubud 80571 Indonesia   \n",
       "4  Sacred Monkey Forest Sanctuary  Jl. Monkey Forest, Ubud 80571 Indonesia   \n",
       "\n",
       "   AttractionTypeId           AttractionType VisitModeName  \n",
       "0                63  Nature & Wildlife Areas       Couples  \n",
       "1                63  Nature & Wildlife Areas       Friends  \n",
       "2                63  Nature & Wildlife Areas        Family  \n",
       "3                63  Nature & Wildlife Areas        Family  \n",
       "4                63  Nature & Wildlife Areas       Couples  "
      ]
     },
     "execution_count": 3,
     "metadata": {},
     "output_type": "execute_result"
    }
   ],
   "source": [
    "#DISPLAY THE TABLE\n",
    "Tourism_df.head()"
   ]
  },
  {
   "cell_type": "code",
   "execution_count": null,
   "metadata": {},
   "outputs": [],
   "source": [
    "#CHECKING DUPLICATE VALUE\n",
    "Tourism_df.duplicated().sum()"
   ]
  },
  {
   "cell_type": "code",
   "execution_count": null,
   "metadata": {},
   "outputs": [],
   "source": [
    "#CHECKING NULL VALUE\n",
    "Tourism_df.isna().sum()"
   ]
  },
  {
   "cell_type": "code",
   "execution_count": null,
   "metadata": {},
   "outputs": [],
   "source": [
    "#IMPORTING LIBRARIES FOR CONVERTING THE CATEGORICAL TO NUMERIC AND BALANCING THE DATA\n",
    "from imblearn.over_sampling import SMOTE\n",
    "from sklearn.preprocessing import OneHotEncoder, LabelEncoder\n",
    "import pandas as pd"
   ]
  },
  {
   "cell_type": "code",
   "execution_count": null,
   "metadata": {},
   "outputs": [],
   "source": [
    "#CONVERTING THE CATEGORICAL TO NUMERIC AND BALANCING THE DATA\n",
    "X = Tourism_df.drop(columns=['TransactionId', 'Rating', 'ContenentId', 'RegionId', \n",
    "                             'CountryId', 'CityId', 'AttractionAddress', \n",
    "                             'AttractionTypeId', 'VisitModeName'])\n",
    "y = Tourism_df['VisitModeName']\n",
    "\n",
    "X = pd.get_dummies(X, drop_first=True) \n",
    "\n",
    "label_encoder = LabelEncoder()\n",
    "y = label_encoder.fit_transform(y)\n",
    "\n",
    "smote = SMOTE(random_state=42)\n",
    "X_smote, y_smote = smote.fit_resample(X, y)\n",
    "\n",
    "y_smote = pd.DataFrame(y_smote, columns=['VisitModeName'])\n",
    "balanced_tourism_data = pd.concat([X_smote, y_smote], axis=1)\n",
    "\n",
    "print(\"Before SMOTE:\")\n",
    "print(pd.Series(y).value_counts())\n",
    "\n",
    "print(\"\\nAfter SMOTE:\")\n",
    "print(y_smote['VisitModeName'].value_counts())\n"
   ]
  },
  {
   "cell_type": "code",
   "execution_count": null,
   "metadata": {},
   "outputs": [],
   "source": [
    "#IMPORTING LIBRARIES FOR TRAINING AND EVALUATE THE MODEL\n",
    "from sklearn.model_selection import train_test_split\n",
    "from sklearn.preprocessing import OneHotEncoder, StandardScaler\n",
    "from sklearn.tree import DecisionTreeClassifier\n",
    "from sklearn.ensemble import RandomForestClassifier\n",
    "import xgboost\n",
    "from xgboost import XGBClassifier\n",
    "from sklearn.metrics import accuracy_score,precision_score,recall_score,f1_score"
   ]
  },
  {
   "cell_type": "code",
   "execution_count": null,
   "metadata": {},
   "outputs": [],
   "source": [
    "#SPLITTING THE DATA FOR TRAINING AND TESTING\n",
    "X_train, X_test, y_train, y_test = train_test_split(X_smote, y_smote, test_size=0.2, random_state=42)"
   ]
  },
  {
   "cell_type": "code",
   "execution_count": null,
   "metadata": {},
   "outputs": [],
   "source": [
    "#TRAIN THE DECISION TREE CLASSIFIER MODEL\n",
    "dt_model = DecisionTreeClassifier(max_depth=5, random_state=42)\n",
    "dt_model.fit(X_train, y_train)"
   ]
  },
  {
   "cell_type": "code",
   "execution_count": null,
   "metadata": {},
   "outputs": [],
   "source": [
    "#PREDICT THE TEST DATA\n",
    "dt_pred = dt_model.predict(X_test)\n",
    "print(dt_pred)"
   ]
  },
  {
   "cell_type": "code",
   "execution_count": null,
   "metadata": {},
   "outputs": [],
   "source": [
    "#EVALUATE THE DC TREE MODEL\n",
    "accuracy = accuracy_score(y_test, dt_pred)\n",
    "precision = precision_score(y_test, dt_pred, average='weighted')\n",
    "recall = recall_score(y_test, dt_pred, average='weighted')\n",
    "\n",
    "print(f\"Accuracy: {accuracy:.4f}\")\n",
    "print(f\"Precision: {precision:.4f}\")\n",
    "print(f\"Recall: {recall:.4f}\")"
   ]
  },
  {
   "cell_type": "code",
   "execution_count": null,
   "metadata": {},
   "outputs": [],
   "source": [
    "#IMPORTING JOBLIB TO SAVE THE MODEL\n",
    "import joblib"
   ]
  },
  {
   "cell_type": "code",
   "execution_count": null,
   "metadata": {},
   "outputs": [
    {
     "data": {
      "text/plain": [
       "['D:\\\\TRANSACTION PROJECT\\\\dc_model.pkl']"
      ]
     },
     "execution_count": 44,
     "metadata": {},
     "output_type": "execute_result"
    }
   ],
   "source": [
    "#SAVE THE MODEL\n",
    "joblib.dump(dt_model, r\"D:\\TRANSACTION PROJECT\\dc_model.pkl\")"
   ]
  },
  {
   "cell_type": "code",
   "execution_count": null,
   "metadata": {},
   "outputs": [],
   "source": [
    "#TRAIN THE RF CLASSIFIER MODEL\n",
    "rf_model = RandomForestClassifier(n_estimators=100, max_depth=5, random_state=42)\n",
    "rf_model.fit(X_train, y_train)"
   ]
  },
  {
   "cell_type": "code",
   "execution_count": null,
   "metadata": {},
   "outputs": [],
   "source": [
    "#PREDICT THE TEST DATA\n",
    "rf_pred = rf_model.predict(X_test)\n",
    "rf_pred"
   ]
  },
  {
   "cell_type": "code",
   "execution_count": null,
   "metadata": {},
   "outputs": [],
   "source": [
    "#EVALUATE THE RANDOM FOREST MODEL\n",
    "accuracy = accuracy_score(y_test, rf_pred)\n",
    "precision = precision_score(y_test, rf_pred, average='weighted')\n",
    "recall = recall_score(y_test, rf_pred, average='weighted')\n",
    "\n",
    "print(f\"Accuracy: {accuracy:.4f}\")\n",
    "print(f\"Precision: {precision:.4f}\")\n",
    "print(f\"Recall: {recall:.4f}\")"
   ]
  },
  {
   "cell_type": "code",
   "execution_count": null,
   "metadata": {},
   "outputs": [],
   "source": [
    "\n",
    "#TRAIN THE XGBOOST AND PREDICT THE TEST DATA \n",
    "xgb_model = XGBClassifier(n_estimators=50, max_depth=3, learning_rate=0.2, random_state=42)\n",
    "xgb_model.fit(X_train, y_train)\n",
    "xgb_pred = xgb_model.predict(X_test)"
   ]
  },
  {
   "cell_type": "code",
   "execution_count": null,
   "metadata": {},
   "outputs": [],
   "source": [
    "#EVALUATE THE XGBOOST MODEL\n",
    "def evaluate_model(model_name, y_true, y_pred):\n",
    "    print(f\"\\n{model_name} Performance:\")\n",
    "    print(f\"Accuracy: {accuracy_score(y_true, y_pred):.4f}\")\n",
    "    print(f\"Precision: {precision_score(y_true, y_pred, average='weighted'):.4f}\")\n",
    "    print(f\"Recall: {recall_score(y_true, y_pred, average='weighted'):.4f}\")\n",
    "    print(f\"F1-Score: {f1_score(y_true, y_pred, average='weighted'):.4f}\")\n",
    "\n",
    "evaluate_model(\"XGBoost\", y_test, xgb_pred)"
   ]
  }
 ],
 "metadata": {
  "kernelspec": {
   "display_name": "Python 3",
   "language": "python",
   "name": "python3"
  },
  "language_info": {
   "codemirror_mode": {
    "name": "ipython",
    "version": 3
   },
   "file_extension": ".py",
   "mimetype": "text/x-python",
   "name": "python",
   "nbconvert_exporter": "python",
   "pygments_lexer": "ipython3",
   "version": "3.12.1"
  }
 },
 "nbformat": 4,
 "nbformat_minor": 2
}
