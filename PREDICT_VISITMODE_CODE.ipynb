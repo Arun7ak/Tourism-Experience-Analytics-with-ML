{
 "cells": [
  {
   "cell_type": "code",
   "execution_count": 9,
   "metadata": {},
   "outputs": [],
   "source": [
    "#IMPORTING LIBRARIES FOR HANDLING DATAFRAME AND FOR DATA VISUALIZATION\n",
    "import pandas as pd \n",
    "import numpy as np"
   ]
  },
  {
   "cell_type": "code",
   "execution_count": 10,
   "metadata": {},
   "outputs": [],
   "source": [
    "#READING THE CSV FILE\n",
    "Tourism_df = pd.read_csv(r\"D:\\TRANSACTION PROJECT\\Full Tourism Data.csv\")"
   ]
  },
  {
   "cell_type": "code",
   "execution_count": null,
   "metadata": {},
   "outputs": [],
   "source": [
    "#DISPLAY THE DATAFRAME\n",
    "Tourism_df.head()"
   ]
  },
  {
   "cell_type": "code",
   "execution_count": null,
   "metadata": {},
   "outputs": [],
   "source": [
    "#CHECKING DUPLICATE VALUE\n",
    "Tourism_df.duplicated().sum()"
   ]
  },
  {
   "cell_type": "code",
   "execution_count": null,
   "metadata": {},
   "outputs": [],
   "source": [
    "#CHECKING NULL VALUE\n",
    "Tourism_df.isna().sum()"
   ]
  },
  {
   "cell_type": "code",
   "execution_count": null,
   "metadata": {},
   "outputs": [],
   "source": [
    "Tourism_df.nunique()"
   ]
  },
  {
   "cell_type": "code",
   "execution_count": null,
   "metadata": {},
   "outputs": [],
   "source": [
    "#IMPORTING LIBRARIES FOR CONVERTING THE CATEGORICAL TO NUMERIC AND BALANCING THE DATA\n",
    "from imblearn.over_sampling import SMOTE\n",
    "from sklearn.preprocessing import OneHotEncoder, LabelEncoder,StandardScaler\n",
    "from category_encoders import TargetEncoder"
   ]
  },
  {
   "cell_type": "code",
   "execution_count": null,
   "metadata": {},
   "outputs": [],
   "source": [
    "#CONVERTING CATEGORICAL DATA TO NUMERIC AND BALANCING THE DATA\n",
    "selected_features = [\"UserId\", \"VisitYear\", \"VisitMonth\", \"VisitMode\", \"AttractionId\", \n",
    "                     \"ContenentId\", \"RegionId\", \"Attraction\", \"AttractionType\", \"AttractionTypeId\"]\n",
    "\n",
    "X = Tourism_df[selected_features].copy()\n",
    "y = Tourism_df[\"VisitModeName\"]\n",
    "\n",
    "categorical_features = [\"VisitMode\", \"AttractionType\"]\n",
    "ohe = OneHotEncoder(handle_unknown=\"ignore\", sparse_output=False)\n",
    "encoded_features = ohe.fit_transform(X[categorical_features])\n",
    "encoded_df = pd.DataFrame(encoded_features, columns=ohe.get_feature_names_out(categorical_features))\n",
    "\n",
    "label_encoder = LabelEncoder()\n",
    "y = pd.Series(label_encoder.fit_transform(y))  # Convert to Pandas Series\n",
    "\n",
    "target_enc = TargetEncoder()\n",
    "X[\"Attraction\"] = target_enc.fit_transform(X[\"Attraction\"], y)\n",
    "\n",
    "bool_cols = X.select_dtypes(include=[\"bool\"]).columns\n",
    "X[bool_cols] = X[bool_cols].astype(int)\n",
    "\n",
    "X = X.drop(columns=categorical_features)\n",
    "X = pd.concat([X.reset_index(drop=True), encoded_df], axis=1)\n",
    "\n",
    "smote = SMOTE(random_state=42)\n",
    "X_smote, y_smote = smote.fit_resample(X, y)\n",
    "\n",
    "y_smote = pd.DataFrame(y_smote, columns=['VisitModeName'])\n",
    "balanced_tourism_data = pd.concat([X_smote, y_smote], axis=1)\n",
    "\n",
    "print(\"Before SMOTE:\")\n",
    "print(pd.Series(y).value_counts())\n",
    "print(\"\\nAfter SMOTE:\")\n",
    "print(y_smote['VisitModeName'].value_counts())"
   ]
  },
  {
   "cell_type": "code",
   "execution_count": 17,
   "metadata": {},
   "outputs": [],
   "source": [
    "#IMPORTING LIBRARIES FOR SPLITING,ENCODING AND FEATURE SCALING\n",
    "from sklearn.model_selection import train_test_split"
   ]
  },
  {
   "cell_type": "code",
   "execution_count": 18,
   "metadata": {},
   "outputs": [],
   "source": [
    "#IMPORTING LIBRARIES FOR TRAINING\n",
    "from sklearn.tree import DecisionTreeClassifier\n",
    "from sklearn.ensemble import RandomForestClassifier\n",
    "import xgboost\n",
    "from xgboost import XGBClassifier"
   ]
  },
  {
   "cell_type": "code",
   "execution_count": 19,
   "metadata": {},
   "outputs": [],
   "source": [
    "#IMPORTING LIBRARIES FOR EVALUATE THE MODEL\n",
    "from sklearn.metrics import accuracy_score,precision_score,recall_score,f1_score"
   ]
  },
  {
   "cell_type": "code",
   "execution_count": 20,
   "metadata": {},
   "outputs": [],
   "source": [
    "#SPLITTING THE DATA FOR TRAINING AND TESTING\n",
    "X_train, X_test, y_train, y_test = train_test_split(X_smote, y_smote, test_size=0.2, random_state=42)"
   ]
  },
  {
   "cell_type": "code",
   "execution_count": null,
   "metadata": {},
   "outputs": [],
   "source": [
    "#TRAIN THE DECISION TREE CLASSIFIER MODEL\n",
    "dt_model = DecisionTreeClassifier(max_depth=5, random_state=42)\n",
    "dt_model.fit(X_train, y_train)"
   ]
  },
  {
   "cell_type": "code",
   "execution_count": null,
   "metadata": {},
   "outputs": [],
   "source": [
    "#PREDICT THE TEST DATA\n",
    "dt_pred = dt_model.predict(X_test)\n",
    "print(dt_pred)"
   ]
  },
  {
   "cell_type": "code",
   "execution_count": null,
   "metadata": {},
   "outputs": [],
   "source": [
    "#EVALUATE THE DC TREE MODEL\n",
    "accuracy = accuracy_score(y_test, dt_pred)\n",
    "precision = precision_score(y_test, dt_pred, average='weighted')\n",
    "recall = recall_score(y_test, dt_pred, average='weighted')\n",
    "\n",
    "print(f\"Accuracy: {accuracy:.4f}\")\n",
    "print(f\"Precision: {precision:.4f}\")\n",
    "print(f\"Recall: {recall:.4f}\")"
   ]
  },
  {
   "cell_type": "code",
   "execution_count": null,
   "metadata": {},
   "outputs": [],
   "source": [
    "#TRAIN THE RF CLASSIFIER MODEL\n",
    "rf_model = RandomForestClassifier(n_estimators=100, max_depth=5, random_state=42)\n",
    "rf_model.fit(X_train, y_train)"
   ]
  },
  {
   "cell_type": "code",
   "execution_count": null,
   "metadata": {},
   "outputs": [],
   "source": [
    "#PREDICT THE TEST DATA\n",
    "rf_pred = rf_model.predict(X_test)\n",
    "rf_pred"
   ]
  },
  {
   "cell_type": "code",
   "execution_count": null,
   "metadata": {},
   "outputs": [],
   "source": [
    "#EVALUATE THE RANDOM FOREST MODEL\n",
    "accuracy = accuracy_score(y_test, rf_pred)\n",
    "precision = precision_score(y_test, rf_pred, average='weighted')\n",
    "recall = recall_score(y_test, rf_pred, average='weighted')\n",
    "\n",
    "print(f\"Accuracy: {accuracy:.4f}\")\n",
    "print(f\"Precision: {precision:.4f}\")\n",
    "print(f\"Recall: {recall:.4f}\")"
   ]
  },
  {
   "cell_type": "code",
   "execution_count": 21,
   "metadata": {},
   "outputs": [],
   "source": [
    "\n",
    "#TRAIN THE XGBOOST AND PREDICT THE TEST DATA \n",
    "xgb_model = XGBClassifier(n_estimators=50, max_depth=3, learning_rate=0.2, random_state=42)\n",
    "xgb_model.fit(X_train, y_train)\n",
    "xgb_pred = xgb_model.predict(X_test)"
   ]
  },
  {
   "cell_type": "code",
   "execution_count": null,
   "metadata": {},
   "outputs": [],
   "source": [
    "#EVALUATE THE XGBOOST MODEL\n",
    "def evaluate_model(model_name, y_true, y_pred):\n",
    "    print(f\"\\n{model_name} Performance:\")\n",
    "    print(f\"Accuracy: {accuracy_score(y_true, y_pred):.4f}\")\n",
    "    print(f\"Precision: {precision_score(y_true, y_pred, average='weighted'):.4f}\")\n",
    "    print(f\"Recall: {recall_score(y_true, y_pred, average='weighted'):.4f}\")\n",
    "    print(f\"F1-Score: {f1_score(y_true, y_pred, average='weighted'):.4f}\")\n",
    "\n",
    "evaluate_model(\"XGBoost\", y_test, xgb_pred)"
   ]
  },
  {
   "cell_type": "code",
   "execution_count": 23,
   "metadata": {},
   "outputs": [],
   "source": [
    "#IMPORTING JOBLIB TO SAVE THE MODEL\n",
    "import joblib"
   ]
  },
  {
   "cell_type": "code",
   "execution_count": null,
   "metadata": {},
   "outputs": [],
   "source": [
    "#SAVE THE BEST MODEL\n",
    "joblib.dump(xgb_model, r\"D:\\TRANSACTION PROJECT\\BEST MODEL VISITMODE.pkl\")"
   ]
  },
  {
   "cell_type": "code",
   "execution_count": null,
   "metadata": {},
   "outputs": [],
   "source": [
    "#SAVING ONE HOT ENCODER\n",
    "joblib.dump(ohe, r\"D:\\TRANSACTION PROJECT\\ohe_for_visitmode.pkl\")"
   ]
  },
  {
   "cell_type": "code",
   "execution_count": null,
   "metadata": {},
   "outputs": [],
   "source": [
    "# SAVE LABLE ENCODER\n",
    "joblib.dump(label_encoder, r\"D:\\TRANSACTION PROJECT\\label_encoding_for_visitmode.pkl\")\n"
   ]
  },
  {
   "cell_type": "code",
   "execution_count": null,
   "metadata": {},
   "outputs": [],
   "source": [
    "# SAVE TARGET ENCODER\n",
    "joblib.dump(target_enc, r\"D:\\TRANSACTION PROJECT\\target_encode_for_visitmode.pkl\")"
   ]
  }
 ],
 "metadata": {
  "kernelspec": {
   "display_name": "Python 3",
   "language": "python",
   "name": "python3"
  },
  "language_info": {
   "codemirror_mode": {
    "name": "ipython",
    "version": 3
   },
   "file_extension": ".py",
   "mimetype": "text/x-python",
   "name": "python",
   "nbconvert_exporter": "python",
   "pygments_lexer": "ipython3",
   "version": "3.12.1"
  }
 },
 "nbformat": 4,
 "nbformat_minor": 2
}
